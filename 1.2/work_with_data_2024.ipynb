{
 "cells": [
  {
   "cell_type": "code",
   "execution_count": 2,
   "id": "9ae06fcf-0596-4927-9ccf-c62e0c1fb38c",
   "metadata": {},
   "outputs": [
    {
     "name": "stdout",
     "output_type": "stream",
     "text": [
      "Requirement already satisfied: pyspark in /home/devops/.config/jupyterlab-desktop/jlab_server/lib/python3.12/site-packages (3.5.3)\n",
      "Requirement already satisfied: py4j==0.10.9.7 in /home/devops/.config/jupyterlab-desktop/jlab_server/lib/python3.12/site-packages (from pyspark) (0.10.9.7)\n"
     ]
    }
   ],
   "source": [
    "!pip install pyspark"
   ]
  },
  {
   "cell_type": "code",
   "execution_count": 33,
   "id": "71b1f246-eb5c-4d8a-8f68-038a891849be",
   "metadata": {},
   "outputs": [],
   "source": [
    "import pandas as pd\n",
    "import matplotlib.pyplot as plt"
   ]
  },
  {
   "cell_type": "code",
   "execution_count": 37,
   "id": "f160664f-b227-467c-88d4-d33e7c5a3c0f",
   "metadata": {},
   "outputs": [
    {
     "name": "stdout",
     "output_type": "stream",
     "text": [
      "+----------+-------------+---------+--------+\n",
      "|product_id| manufacturer|  quality|batch_id|\n",
      "+----------+-------------+---------+--------+\n",
      "|         1|ManufacturerS|     Good|     176|\n",
      "|         2|ManufacturerD|Defective|     196|\n",
      "|         3|ManufacturerI|Defective|     178|\n",
      "|         4|ManufacturerS|     Good|     132|\n",
      "|         5|ManufacturerM|     Good|     152|\n",
      "+----------+-------------+---------+--------+\n",
      "only showing top 5 rows\n",
      "\n"
     ]
    }
   ],
   "source": [
    "from pyspark.sql import SparkSession\n",
    "\n",
    "# Создание SparkSession\n",
    "spark = SparkSession.builder \\\n",
    "    .appName(\"Quality Analysis\") \\\n",
    "    .config(\"spark.hadoop.fs.defaultFS\", \"hdfs://localhost:9000\") \\\n",
    "    .config(\"spark.ui.port\", \"4050\") \\\n",
    "    .getOrCreate()\n",
    "\n",
    "# Установка количества разделов для shuffle операций\n",
    "spark.conf.set(\"spark.sql.shuffle.partitions\", \"50\")\n",
    "\n",
    "# Чтение данных из HDFS\n",
    "file_path = \"hdfs://localhost:9000/userrus/quality.csv\"\n",
    "df = spark.read.csv(file_path, header=True, inferSchema=True)\n",
    "\n",
    "# Просмотр первых строк данных\n",
    "df.show(5)"
   ]
  },
  {
   "cell_type": "code",
   "execution_count": null,
   "id": "b7b466e1-0455-4d69-9b2e-02b890e5f38a",
   "metadata": {},
   "outputs": [
    {
     "name": "stdout",
     "output_type": "stream",
     "text": [
      "+----------+-------------+---------+--------+\n",
      "|product_id| manufacturer|  quality|batch_id|\n",
      "+----------+-------------+---------+--------+\n",
      "|         2|ManufacturerD|Defective|     196|\n",
      "|         3|ManufacturerI|Defective|     178|\n",
      "|         8|ManufacturerM|Defective|     156|\n",
      "|        10|ManufacturerI|Defective|     132|\n",
      "|        12|ManufacturerG|Defective|     130|\n",
      "|        13|ManufacturerU|Defective|     155|\n",
      "|        14|ManufacturerH|Defective|     181|\n",
      "|        15|ManufacturerL|Defective|     103|\n",
      "|        17|ManufacturerH|Defective|     196|\n",
      "|        18|ManufacturerV|Defective|     122|\n",
      "|        21|ManufacturerO|Defective|     106|\n",
      "|        22|ManufacturerV|Defective|     167|\n",
      "|        23|ManufacturerJ|Defective|     186|\n",
      "|        24|ManufacturerH|Defective|     176|\n",
      "|        25|ManufacturerA|Defective|     122|\n",
      "|        26|ManufacturerM|Defective|     183|\n",
      "|        30|ManufacturerP|Defective|     176|\n",
      "|        32|ManufacturerL|Defective|     174|\n",
      "|        33|ManufacturerP|Defective|     176|\n",
      "|        34|ManufacturerG|Defective|     164|\n",
      "+----------+-------------+---------+--------+\n",
      "only showing top 20 rows\n",
      "\n"
     ]
    }
   ],
   "source": [
    "from pyspark.sql import SparkSession\n",
    "from pyspark.sql.functions import col\n",
    "\n",
    "# Создание SparkSession\n",
    "spark = SparkSession.builder \\\n",
    "    .appName(\"Quality Analysis - Problematic Products\") \\\n",
    "    .config(\"spark.hadoop.fs.defaultFS\", \"hdfs://localhost:9000\") \\\n",
    "    .getOrCreate()\n",
    "\n",
    "# Чтение данных из HDFS\n",
    "file_path = \"hdfs://localhost:9000/userrus/quality.csv\"\n",
    "df = spark.read.csv(file_path, header=True, inferSchema=True)\n",
    "\n",
    "# Фильтрация проблемных товаров (качество = \"Defective\")\n",
    "problematic_products = df.filter(col(\"quality\") == \"Defective\")\n",
    "\n",
    "# Вывод проблемных товаров\n",
    "problematic_products.show()\n",
    "\n",
    "# Сохранение результатов в HDFS\n",
    "output_path_problematic = \"hdfs://localhost:9000/userrus/problematic_products\"\n",
    "problematic_products.write.csv(output_path_problematic, header=True)\n",
    "\n",
    "# Закрытие SparkSession\n",
    "spark.stop()"
   ]
  },
  {
   "cell_type": "code",
   "execution_count": null,
   "id": "1a069695-2162-4ebf-b60f-5bd42e2c8a02",
   "metadata": {},
   "outputs": [
    {
     "name": "stderr",
     "output_type": "stream",
     "text": [
      "25/05/03 04:28:07 WARN SparkSession: Using an existing Spark session; only runtime SQL configurations will take effect.\n"
     ]
    },
    {
     "name": "stdout",
     "output_type": "stream",
     "text": [
      "+-------------+---------------+-----------+------------------+\n",
      "| manufacturer|defective_count|total_count| defect_percentage|\n",
      "+-------------+---------------+-----------+------------------+\n",
      "|ManufacturerP|             22|         35|62.857142857142854|\n",
      "|ManufacturerK|             21|         41| 51.21951219512195|\n",
      "|ManufacturerM|             22|         41| 53.65853658536586|\n",
      "|ManufacturerQ|             14|         37| 37.83783783783784|\n",
      "|ManufacturerT|             24|         45|53.333333333333336|\n",
      "|ManufacturerR|             24|         43| 55.81395348837209|\n",
      "|ManufacturerS|             24|         43| 55.81395348837209|\n",
      "|ManufacturerH|             21|         35|              60.0|\n",
      "|ManufacturerI|             23|         50|              46.0|\n",
      "|ManufacturerE|             17|         34|              50.0|\n",
      "|ManufacturerZ|             13|         28| 46.42857142857143|\n",
      "|ManufacturerU|             17|         40|              42.5|\n",
      "|ManufacturerD|             24|         48|              50.0|\n",
      "|ManufacturerC|             18|         46|39.130434782608695|\n",
      "|ManufacturerG|             19|         34| 55.88235294117647|\n",
      "|ManufacturerV|             17|         31| 54.83870967741935|\n",
      "|ManufacturerX|             17|         37| 45.94594594594595|\n",
      "|ManufacturerA|             10|         28|35.714285714285715|\n",
      "|ManufacturerO|             20|         38| 52.63157894736842|\n",
      "|ManufacturerJ|             19|         35|54.285714285714285|\n",
      "+-------------+---------------+-----------+------------------+\n",
      "only showing top 20 rows\n",
      "\n"
     ]
    }
   ],
   "source": [
    "from pyspark.sql import SparkSession\n",
    "from pyspark.sql.functions import col, when, sum as spark_sum\n",
    "\n",
    "# Создание SparkSession\n",
    "spark = SparkSession.builder \\\n",
    "    .appName(\"Quality Analysis - Defect Percentage\") \\\n",
    "    .config(\"spark.hadoop.fs.defaultFS\", \"hdfs://localhost:9000\") \\\n",
    "    .getOrCreate()\n",
    "\n",
    "# Чтение данных из HDFS\n",
    "file_path = \"hdfs://localhost:9000/userrus/quality.csv\"\n",
    "df = spark.read.csv(file_path, header=True, inferSchema=True)\n",
    "\n",
    "# Группировка данных по производителю и расчет процента брака\n",
    "defect_percentage_df = df.groupBy(\"manufacturer\") \\\n",
    "    .agg(\n",
    "        spark_sum(when(col(\"quality\") == \"Defective\", 1).otherwise(0)).alias(\"defective_count\"),\n",
    "        spark_sum(when(col(\"quality\").isNotNull(), 1).otherwise(0)).alias(\"total_count\")\n",
    "    ) \\\n",
    "    .withColumn(\"defect_percentage\", (col(\"defective_count\") / col(\"total_count\") * 100).cast(\"double\"))\n",
    "\n",
    "# Вывод результатов\n",
    "defect_percentage_df.show()\n",
    "\n",
    "# Сохранение результатов в HDFS\n",
    "output_path_defect = \"hdfs://localhost:9000/userrus/defect_percentage\"\n",
    "defect_percentage_df.write.csv(output_path_defect, header=True)\n",
    "\n",
    "# Закрытие SparkSession\n",
    "spark.stop()"
   ]
  },
  {
   "cell_type": "code",
   "execution_count": null,
   "id": "d543021f-1576-4ab5-a022-35efdce5de9c",
   "metadata": {},
   "outputs": [
    {
     "data": {
      "image/png": "[encoded data removed]",
      "text/plain": [
       "<Figure size 1000x600 with 1 Axes>"
      ]
     },
     "metadata": {},
     "output_type": "display_data"
    }
   ],
   "source": [
    "import pandas as pd\n",
    "import matplotlib.pyplot as plt\n",
    "from pyspark.sql import SparkSession\n",
    "from pyspark.sql.functions import col, when, sum as spark_sum\n",
    "\n",
    "# Создание SparkSession\n",
    "spark = SparkSession.builder \\\n",
    "    .appName(\"Quality Analysis - Visualization\") \\\n",
    "    .config(\"spark.hadoop.fs.defaultFS\", \"hdfs://localhost:9000\") \\\n",
    "    .getOrCreate()\n",
    "\n",
    "# Чтение данных из HDFS (исходный датасет)\n",
    "file_path = \"hdfs://localhost:9000/userrus/quality.csv\"\n",
    "df = spark.read.csv(file_path, header=True, inferSchema=True)\n",
    "\n",
    "# Группировка данных по производителю и расчет процента брака\n",
    "defect_percentage_df = df.groupBy(\"manufacturer\") \\\n",
    "    .agg(\n",
    "        spark_sum(when(col(\"quality\") == \"Defective\", 1).otherwise(0)).alias(\"defective_count\"),\n",
    "        spark_sum(when(col(\"quality\").isNotNull(), 1).otherwise(0)).alias(\"total_count\")\n",
    "    ) \\\n",
    "    .withColumn(\"defect_percentage\", (col(\"defective_count\") / col(\"total_count\") * 100).cast(\"double\"))\n",
    "\n",
    "# Преобразование Spark DataFrame в Pandas DataFrame\n",
    "pandas_df = defect_percentage_df.toPandas()\n",
    "\n",
    "# Построение диаграммы\n",
    "plt.figure(figsize=(10, 6))\n",
    "plt.bar(pandas_df['manufacturer'], pandas_df['defect_percentage'], color='skyblue')\n",
    "plt.xlabel('Производитель')\n",
    "plt.ylabel('Процент брака (%)')\n",
    "plt.title('Процент брака по производителям')\n",
    "plt.xticks(rotation=45, ha='right')\n",
    "plt.tight_layout()\n",
    "\n",
    "# Сохранение диаграммы в файл\n",
    "plt.savefig('defect_percentage_chart.png')\n",
    "\n",
    "# Отображение диаграммы\n",
    "plt.show()\n",
    "\n",
    "# Закрытие SparkSession\n",
    "spark.stop()"
   ]
  },
  {
   "cell_type": "code",
   "execution_count": null,
   "id": "a565f3e9-a4b3-4290-b781-8753e3a67d09",
   "metadata": {},
   "outputs": [],
   "source": []
  }
 ],
 "metadata": {
  "kernelspec": {
   "display_name": "Python 3 (ipykernel)",
   "language": "python",
   "name": "python3"
  },
  "language_info": {
   "codemirror_mode": {
    "name": "ipython",
    "version": 3
   },
   "file_extension": ".py",
   "mimetype": "text/x-python",
   "name": "python",
   "nbconvert_exporter": "python",
   "pygments_lexer": "ipython3",
   "version": "3.12.3"
  }
 },
 "nbformat": 4,
 "nbformat_minor": 5
}
